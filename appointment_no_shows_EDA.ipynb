{
 "cells": [
  {
   "cell_type": "markdown",
   "metadata": {},
   "source": [
    "# Project: Medical Appointment No Shows - Exploratory Data Analysis\n",
    "\n",
    "## Table of Contents\n",
    "<ul>\n",
    "<li><a href=\"#intro\">Introduction</a></li>\n",
    "<li><a href=\"#wrangling\">Data Wrangling</a></li>\n",
    "<li><a href=\"#eda\">Exploratory Data Analysis</a></li>\n",
    "<li><a href=\"#conclusions\">Conclusions</a></li>\n",
    "</ul>"
   ]
  },
  {
   "cell_type": "markdown",
   "metadata": {},
   "source": [
    "<a id='intro'></a>\n",
    "## Introduction\n",
    "In this project, I will analyze Medical Appointment No Shows dataset which is focused on the question: \n",
    "* A person makes a doctor appointment, receives all the instructions and no-show. Who to blame?\n",
    "\n",
    "This dataset contains 110.527 medical appointments in Brazil and its 14 associated variables (characteristics). The most important one if the patient show-up or no-show to the appointment.\n",
    "\n",
    "One of these variables is scholarship, and this variable refers to the concept of Bolsa Família. It is a social welfare program of the Government of Brazil. Bolsa Família provides financial aid to poor Brazilian families. The program attempts to both reduce short-term poverty by direct cash transfers and fight long-term poverty by increasing human capital among the poor through conditional cash transfers. It also works to give free education to children who cannot afford to go to school to show the importance of education. To find more, you can check this [link](https://en.wikipedia.org/wiki/Bolsa_Fam%C3%ADlia).\n",
    "\n",
    "\n",
    "### The questions that we plan on exploring:\n",
    "<ol>\n",
    "<li><a href=\"#q1\">Does age affect on people for showing up for their appointments? And which age segment is caring less/more about health?</a></li>\n",
    "<li><a href=\"#q2\">Which gender of each age segment is caring less/more about health?</a></li>\n",
    "<li><a href=\"#q3\">Which gender is commited more to their appointment, Male or Female?</a></li>\n",
    "<li><a href=\"#q4\">What is the percentage of the people who shown up for their appointments out of the total number?</a></li>\n",
    "</ol>\n"
   ]
  },
  {
   "cell_type": "markdown",
   "metadata": {},
   "source": [
    "**Data Dictionary**\n",
    "* PatientId\n",
    "\t* Identification of a patient\n",
    "* AppointmentID\n",
    "\t* Identification of each appointment\n",
    "* Gender\n",
    "\t* Male or Female . Female is the greater proportion, woman takes way more care of they health in comparison to man.\n",
    "* AppointmentDay\n",
    "\t* The day of the actuall appointment, when they have to visit the doctor.\n",
    "* ScheduledDay\n",
    "\t* The day someone called or registered the appointment, this is before appointment of course.\n",
    "* Age\n",
    "\t* How old is the patient.\n",
    "* Neighbourhood\n",
    "\t* Where the appointment takes place / indicates the location of the hospital.\n",
    "* Scholarship\n",
    "\t* True of False\n",
    "* Hipertension\n",
    "\t* True or False\n",
    "* Diabetes\n",
    "\t* True or False\n",
    "* Alcoholism\n",
    "\t* True or False\n",
    "* Handcap\n",
    "\t* True or False\n",
    "* SMS_received\n",
    "\t* 1 or more messages sent to the patient.\n",
    "* No-show\n",
    "\t* ‘No’ if the patient showed up to their appointment, and ‘Yes’ if they did not show up."
   ]
  },
  {
   "cell_type": "code",
   "execution_count": 1,
   "metadata": {},
   "outputs": [],
   "source": [
    "# Import libraries\n",
    "import numpy as np\n",
    "import pandas as pd\n",
    "import seaborn as sns\n",
    "import matplotlib.pyplot as plt\n",
    "\n",
    "%matplotlib inline"
   ]
  },
  {
   "cell_type": "markdown",
   "metadata": {},
   "source": [
    "<a id='wrangling'></a>\n",
    "## Data Wrangling\n",
    "\n",
    "### General Properties"
   ]
  },
  {
   "cell_type": "code",
   "execution_count": 2,
   "metadata": {},
   "outputs": [
    {
     "data": {
      "text/plain": [
       "(110527, 14)"
      ]
     },
     "metadata": {},
     "output_type": "display_data"
    },
    {
     "data": {
      "text/html": [
       "<div>\n",
       "<style scoped>\n",
       "    .dataframe tbody tr th:only-of-type {\n",
       "        vertical-align: middle;\n",
       "    }\n",
       "\n",
       "    .dataframe tbody tr th {\n",
       "        vertical-align: top;\n",
       "    }\n",
       "\n",
       "    .dataframe thead th {\n",
       "        text-align: right;\n",
       "    }\n",
       "</style>\n",
       "<table border=\"1\" class=\"dataframe\">\n",
       "  <thead>\n",
       "    <tr style=\"text-align: right;\">\n",
       "      <th></th>\n",
       "      <th>PatientId</th>\n",
       "      <th>AppointmentID</th>\n",
       "      <th>Gender</th>\n",
       "      <th>ScheduledDay</th>\n",
       "      <th>AppointmentDay</th>\n",
       "      <th>Age</th>\n",
       "      <th>Neighbourhood</th>\n",
       "      <th>Scholarship</th>\n",
       "      <th>Hipertension</th>\n",
       "      <th>Diabetes</th>\n",
       "      <th>Alcoholism</th>\n",
       "      <th>Handcap</th>\n",
       "      <th>SMS_received</th>\n",
       "      <th>No-show</th>\n",
       "    </tr>\n",
       "  </thead>\n",
       "  <tbody>\n",
       "    <tr>\n",
       "      <th>0</th>\n",
       "      <td>2.987250e+13</td>\n",
       "      <td>5642903</td>\n",
       "      <td>F</td>\n",
       "      <td>2016-04-29T18:38:08Z</td>\n",
       "      <td>2016-04-29T00:00:00Z</td>\n",
       "      <td>62</td>\n",
       "      <td>JARDIM DA PENHA</td>\n",
       "      <td>0</td>\n",
       "      <td>1</td>\n",
       "      <td>0</td>\n",
       "      <td>0</td>\n",
       "      <td>0</td>\n",
       "      <td>0</td>\n",
       "      <td>No</td>\n",
       "    </tr>\n",
       "    <tr>\n",
       "      <th>1</th>\n",
       "      <td>5.589978e+14</td>\n",
       "      <td>5642503</td>\n",
       "      <td>M</td>\n",
       "      <td>2016-04-29T16:08:27Z</td>\n",
       "      <td>2016-04-29T00:00:00Z</td>\n",
       "      <td>56</td>\n",
       "      <td>JARDIM DA PENHA</td>\n",
       "      <td>0</td>\n",
       "      <td>0</td>\n",
       "      <td>0</td>\n",
       "      <td>0</td>\n",
       "      <td>0</td>\n",
       "      <td>0</td>\n",
       "      <td>No</td>\n",
       "    </tr>\n",
       "    <tr>\n",
       "      <th>2</th>\n",
       "      <td>4.262962e+12</td>\n",
       "      <td>5642549</td>\n",
       "      <td>F</td>\n",
       "      <td>2016-04-29T16:19:04Z</td>\n",
       "      <td>2016-04-29T00:00:00Z</td>\n",
       "      <td>62</td>\n",
       "      <td>MATA DA PRAIA</td>\n",
       "      <td>0</td>\n",
       "      <td>0</td>\n",
       "      <td>0</td>\n",
       "      <td>0</td>\n",
       "      <td>0</td>\n",
       "      <td>0</td>\n",
       "      <td>No</td>\n",
       "    </tr>\n",
       "    <tr>\n",
       "      <th>3</th>\n",
       "      <td>8.679512e+11</td>\n",
       "      <td>5642828</td>\n",
       "      <td>F</td>\n",
       "      <td>2016-04-29T17:29:31Z</td>\n",
       "      <td>2016-04-29T00:00:00Z</td>\n",
       "      <td>8</td>\n",
       "      <td>PONTAL DE CAMBURI</td>\n",
       "      <td>0</td>\n",
       "      <td>0</td>\n",
       "      <td>0</td>\n",
       "      <td>0</td>\n",
       "      <td>0</td>\n",
       "      <td>0</td>\n",
       "      <td>No</td>\n",
       "    </tr>\n",
       "    <tr>\n",
       "      <th>4</th>\n",
       "      <td>8.841186e+12</td>\n",
       "      <td>5642494</td>\n",
       "      <td>F</td>\n",
       "      <td>2016-04-29T16:07:23Z</td>\n",
       "      <td>2016-04-29T00:00:00Z</td>\n",
       "      <td>56</td>\n",
       "      <td>JARDIM DA PENHA</td>\n",
       "      <td>0</td>\n",
       "      <td>1</td>\n",
       "      <td>1</td>\n",
       "      <td>0</td>\n",
       "      <td>0</td>\n",
       "      <td>0</td>\n",
       "      <td>No</td>\n",
       "    </tr>\n",
       "  </tbody>\n",
       "</table>\n",
       "</div>"
      ],
      "text/plain": [
       "      PatientId  AppointmentID Gender          ScheduledDay  \\\n",
       "0  2.987250e+13        5642903      F  2016-04-29T18:38:08Z   \n",
       "1  5.589978e+14        5642503      M  2016-04-29T16:08:27Z   \n",
       "2  4.262962e+12        5642549      F  2016-04-29T16:19:04Z   \n",
       "3  8.679512e+11        5642828      F  2016-04-29T17:29:31Z   \n",
       "4  8.841186e+12        5642494      F  2016-04-29T16:07:23Z   \n",
       "\n",
       "         AppointmentDay  Age      Neighbourhood  Scholarship  Hipertension  \\\n",
       "0  2016-04-29T00:00:00Z   62    JARDIM DA PENHA            0             1   \n",
       "1  2016-04-29T00:00:00Z   56    JARDIM DA PENHA            0             0   \n",
       "2  2016-04-29T00:00:00Z   62      MATA DA PRAIA            0             0   \n",
       "3  2016-04-29T00:00:00Z    8  PONTAL DE CAMBURI            0             0   \n",
       "4  2016-04-29T00:00:00Z   56    JARDIM DA PENHA            0             1   \n",
       "\n",
       "   Diabetes  Alcoholism  Handcap  SMS_received No-show  \n",
       "0         0           0        0             0      No  \n",
       "1         0           0        0             0      No  \n",
       "2         0           0        0             0      No  \n",
       "3         0           0        0             0      No  \n",
       "4         1           0        0             0      No  "
      ]
     },
     "execution_count": 2,
     "metadata": {},
     "output_type": "execute_result"
    }
   ],
   "source": [
    "# load data\n",
    "df = pd.read_csv('noshowappointments-kagglev2-may-2016.csv')\n",
    "\n",
    "# Displaying the shape and the first 5 rows of the dataset,\n",
    "display(df.shape)\n",
    "df.head()"
   ]
  },
  {
   "cell_type": "code",
   "execution_count": 3,
   "metadata": {},
   "outputs": [
    {
     "name": "stdout",
     "output_type": "stream",
     "text": [
      "<class 'pandas.core.frame.DataFrame'>\n",
      "RangeIndex: 110527 entries, 0 to 110526\n",
      "Data columns (total 14 columns):\n",
      " #   Column          Non-Null Count   Dtype  \n",
      "---  ------          --------------   -----  \n",
      " 0   PatientId       110527 non-null  float64\n",
      " 1   AppointmentID   110527 non-null  int64  \n",
      " 2   Gender          110527 non-null  object \n",
      " 3   ScheduledDay    110527 non-null  object \n",
      " 4   AppointmentDay  110527 non-null  object \n",
      " 5   Age             110527 non-null  int64  \n",
      " 6   Neighbourhood   110527 non-null  object \n",
      " 7   Scholarship     110527 non-null  int64  \n",
      " 8   Hipertension    110527 non-null  int64  \n",
      " 9   Diabetes        110527 non-null  int64  \n",
      " 10  Alcoholism      110527 non-null  int64  \n",
      " 11  Handcap         110527 non-null  int64  \n",
      " 12  SMS_received    110527 non-null  int64  \n",
      " 13  No-show         110527 non-null  object \n",
      "dtypes: float64(1), int64(8), object(5)\n",
      "memory usage: 11.8+ MB\n"
     ]
    }
   ],
   "source": [
    "df.info()"
   ]
  },
  {
   "cell_type": "markdown",
   "metadata": {},
   "source": [
    "All columns has no Null values and the same number of entries which is great. We won't have the issue of Null values and handling it."
   ]
  },
  {
   "cell_type": "code",
   "execution_count": 4,
   "metadata": {},
   "outputs": [
    {
     "data": {
      "text/plain": [
       "0"
      ]
     },
     "execution_count": 4,
     "metadata": {},
     "output_type": "execute_result"
    }
   ],
   "source": [
    "df.duplicated().sum()"
   ]
  },
  {
   "cell_type": "markdown",
   "metadata": {},
   "source": [
    "We have no duplicate records too."
   ]
  },
  {
   "cell_type": "code",
   "execution_count": 5,
   "metadata": {},
   "outputs": [
    {
     "data": {
      "text/plain": [
       "PatientId          62299\n",
       "AppointmentID     110527\n",
       "Gender                 2\n",
       "ScheduledDay      103549\n",
       "AppointmentDay        27\n",
       "Age                  104\n",
       "Neighbourhood         81\n",
       "Scholarship            2\n",
       "Hipertension           2\n",
       "Diabetes               2\n",
       "Alcoholism             2\n",
       "Handcap                5\n",
       "SMS_received           2\n",
       "No-show                2\n",
       "dtype: int64"
      ]
     },
     "execution_count": 5,
     "metadata": {},
     "output_type": "execute_result"
    }
   ],
   "source": [
    "# Checking the number of the unique values for each variable, such as Neighbourhood, Handcap, and so on.\n",
    "df.nunique()"
   ]
  },
  {
   "cell_type": "code",
   "execution_count": 6,
   "metadata": {
    "scrolled": true
   },
   "outputs": [
    {
     "data": {
      "text/html": [
       "<div>\n",
       "<style scoped>\n",
       "    .dataframe tbody tr th:only-of-type {\n",
       "        vertical-align: middle;\n",
       "    }\n",
       "\n",
       "    .dataframe tbody tr th {\n",
       "        vertical-align: top;\n",
       "    }\n",
       "\n",
       "    .dataframe thead th {\n",
       "        text-align: right;\n",
       "    }\n",
       "</style>\n",
       "<table border=\"1\" class=\"dataframe\">\n",
       "  <thead>\n",
       "    <tr style=\"text-align: right;\">\n",
       "      <th></th>\n",
       "      <th>PatientId</th>\n",
       "      <th>AppointmentID</th>\n",
       "      <th>Age</th>\n",
       "      <th>Scholarship</th>\n",
       "      <th>Hipertension</th>\n",
       "      <th>Diabetes</th>\n",
       "      <th>Alcoholism</th>\n",
       "      <th>Handcap</th>\n",
       "      <th>SMS_received</th>\n",
       "    </tr>\n",
       "  </thead>\n",
       "  <tbody>\n",
       "    <tr>\n",
       "      <th>count</th>\n",
       "      <td>1.105270e+05</td>\n",
       "      <td>1.105270e+05</td>\n",
       "      <td>110527.000000</td>\n",
       "      <td>110527.000000</td>\n",
       "      <td>110527.000000</td>\n",
       "      <td>110527.000000</td>\n",
       "      <td>110527.000000</td>\n",
       "      <td>110527.000000</td>\n",
       "      <td>110527.000000</td>\n",
       "    </tr>\n",
       "    <tr>\n",
       "      <th>mean</th>\n",
       "      <td>1.474963e+14</td>\n",
       "      <td>5.675305e+06</td>\n",
       "      <td>37.088874</td>\n",
       "      <td>0.098266</td>\n",
       "      <td>0.197246</td>\n",
       "      <td>0.071865</td>\n",
       "      <td>0.030400</td>\n",
       "      <td>0.022248</td>\n",
       "      <td>0.321026</td>\n",
       "    </tr>\n",
       "    <tr>\n",
       "      <th>std</th>\n",
       "      <td>2.560949e+14</td>\n",
       "      <td>7.129575e+04</td>\n",
       "      <td>23.110205</td>\n",
       "      <td>0.297675</td>\n",
       "      <td>0.397921</td>\n",
       "      <td>0.258265</td>\n",
       "      <td>0.171686</td>\n",
       "      <td>0.161543</td>\n",
       "      <td>0.466873</td>\n",
       "    </tr>\n",
       "    <tr>\n",
       "      <th>min</th>\n",
       "      <td>3.921784e+04</td>\n",
       "      <td>5.030230e+06</td>\n",
       "      <td>-1.000000</td>\n",
       "      <td>0.000000</td>\n",
       "      <td>0.000000</td>\n",
       "      <td>0.000000</td>\n",
       "      <td>0.000000</td>\n",
       "      <td>0.000000</td>\n",
       "      <td>0.000000</td>\n",
       "    </tr>\n",
       "    <tr>\n",
       "      <th>25%</th>\n",
       "      <td>4.172614e+12</td>\n",
       "      <td>5.640286e+06</td>\n",
       "      <td>18.000000</td>\n",
       "      <td>0.000000</td>\n",
       "      <td>0.000000</td>\n",
       "      <td>0.000000</td>\n",
       "      <td>0.000000</td>\n",
       "      <td>0.000000</td>\n",
       "      <td>0.000000</td>\n",
       "    </tr>\n",
       "    <tr>\n",
       "      <th>50%</th>\n",
       "      <td>3.173184e+13</td>\n",
       "      <td>5.680573e+06</td>\n",
       "      <td>37.000000</td>\n",
       "      <td>0.000000</td>\n",
       "      <td>0.000000</td>\n",
       "      <td>0.000000</td>\n",
       "      <td>0.000000</td>\n",
       "      <td>0.000000</td>\n",
       "      <td>0.000000</td>\n",
       "    </tr>\n",
       "    <tr>\n",
       "      <th>75%</th>\n",
       "      <td>9.439172e+13</td>\n",
       "      <td>5.725524e+06</td>\n",
       "      <td>55.000000</td>\n",
       "      <td>0.000000</td>\n",
       "      <td>0.000000</td>\n",
       "      <td>0.000000</td>\n",
       "      <td>0.000000</td>\n",
       "      <td>0.000000</td>\n",
       "      <td>1.000000</td>\n",
       "    </tr>\n",
       "    <tr>\n",
       "      <th>max</th>\n",
       "      <td>9.999816e+14</td>\n",
       "      <td>5.790484e+06</td>\n",
       "      <td>115.000000</td>\n",
       "      <td>1.000000</td>\n",
       "      <td>1.000000</td>\n",
       "      <td>1.000000</td>\n",
       "      <td>1.000000</td>\n",
       "      <td>4.000000</td>\n",
       "      <td>1.000000</td>\n",
       "    </tr>\n",
       "  </tbody>\n",
       "</table>\n",
       "</div>"
      ],
      "text/plain": [
       "          PatientId  AppointmentID            Age    Scholarship  \\\n",
       "count  1.105270e+05   1.105270e+05  110527.000000  110527.000000   \n",
       "mean   1.474963e+14   5.675305e+06      37.088874       0.098266   \n",
       "std    2.560949e+14   7.129575e+04      23.110205       0.297675   \n",
       "min    3.921784e+04   5.030230e+06      -1.000000       0.000000   \n",
       "25%    4.172614e+12   5.640286e+06      18.000000       0.000000   \n",
       "50%    3.173184e+13   5.680573e+06      37.000000       0.000000   \n",
       "75%    9.439172e+13   5.725524e+06      55.000000       0.000000   \n",
       "max    9.999816e+14   5.790484e+06     115.000000       1.000000   \n",
       "\n",
       "        Hipertension       Diabetes     Alcoholism        Handcap  \\\n",
       "count  110527.000000  110527.000000  110527.000000  110527.000000   \n",
       "mean        0.197246       0.071865       0.030400       0.022248   \n",
       "std         0.397921       0.258265       0.171686       0.161543   \n",
       "min         0.000000       0.000000       0.000000       0.000000   \n",
       "25%         0.000000       0.000000       0.000000       0.000000   \n",
       "50%         0.000000       0.000000       0.000000       0.000000   \n",
       "75%         0.000000       0.000000       0.000000       0.000000   \n",
       "max         1.000000       1.000000       1.000000       4.000000   \n",
       "\n",
       "        SMS_received  \n",
       "count  110527.000000  \n",
       "mean        0.321026  \n",
       "std         0.466873  \n",
       "min         0.000000  \n",
       "25%         0.000000  \n",
       "50%         0.000000  \n",
       "75%         1.000000  \n",
       "max         1.000000  "
      ]
     },
     "execution_count": 6,
     "metadata": {},
     "output_type": "execute_result"
    }
   ],
   "source": [
    "df.describe()"
   ]
  },
  {
   "cell_type": "code",
   "execution_count": 7,
   "metadata": {
    "scrolled": true
   },
   "outputs": [
    {
     "data": {
      "text/plain": [
       "Age\n",
       "-1         1\n",
       " 0      3539\n",
       " 1      2273\n",
       " 2      1618\n",
       " 3      1513\n",
       "        ... \n",
       " 98        6\n",
       " 99        1\n",
       " 100       4\n",
       " 102       2\n",
       " 115       5\n",
       "Length: 104, dtype: int64"
      ]
     },
     "execution_count": 7,
     "metadata": {},
     "output_type": "execute_result"
    }
   ],
   "source": [
    "df.groupby('Age').size()"
   ]
  },
  {
   "cell_type": "code",
   "execution_count": 8,
   "metadata": {},
   "outputs": [
    {
     "data": {
      "text/html": [
       "<div>\n",
       "<style scoped>\n",
       "    .dataframe tbody tr th:only-of-type {\n",
       "        vertical-align: middle;\n",
       "    }\n",
       "\n",
       "    .dataframe tbody tr th {\n",
       "        vertical-align: top;\n",
       "    }\n",
       "\n",
       "    .dataframe thead th {\n",
       "        text-align: right;\n",
       "    }\n",
       "</style>\n",
       "<table border=\"1\" class=\"dataframe\">\n",
       "  <thead>\n",
       "    <tr style=\"text-align: right;\">\n",
       "      <th></th>\n",
       "      <th>PatientId</th>\n",
       "      <th>AppointmentID</th>\n",
       "      <th>Gender</th>\n",
       "      <th>ScheduledDay</th>\n",
       "      <th>AppointmentDay</th>\n",
       "      <th>Age</th>\n",
       "      <th>Neighbourhood</th>\n",
       "      <th>Scholarship</th>\n",
       "      <th>Hipertension</th>\n",
       "      <th>Diabetes</th>\n",
       "      <th>Alcoholism</th>\n",
       "      <th>Handcap</th>\n",
       "      <th>SMS_received</th>\n",
       "      <th>No-show</th>\n",
       "    </tr>\n",
       "  </thead>\n",
       "  <tbody>\n",
       "    <tr>\n",
       "      <th>0</th>\n",
       "      <td>2.987250e+13</td>\n",
       "      <td>5642903</td>\n",
       "      <td>F</td>\n",
       "      <td>2016-04-29T18:38:08Z</td>\n",
       "      <td>2016-04-29T00:00:00Z</td>\n",
       "      <td>62</td>\n",
       "      <td>JARDIM DA PENHA</td>\n",
       "      <td>0</td>\n",
       "      <td>1</td>\n",
       "      <td>0</td>\n",
       "      <td>0</td>\n",
       "      <td>0</td>\n",
       "      <td>0</td>\n",
       "      <td>No</td>\n",
       "    </tr>\n",
       "    <tr>\n",
       "      <th>1</th>\n",
       "      <td>5.589978e+14</td>\n",
       "      <td>5642503</td>\n",
       "      <td>M</td>\n",
       "      <td>2016-04-29T16:08:27Z</td>\n",
       "      <td>2016-04-29T00:00:00Z</td>\n",
       "      <td>56</td>\n",
       "      <td>JARDIM DA PENHA</td>\n",
       "      <td>0</td>\n",
       "      <td>0</td>\n",
       "      <td>0</td>\n",
       "      <td>0</td>\n",
       "      <td>0</td>\n",
       "      <td>0</td>\n",
       "      <td>No</td>\n",
       "    </tr>\n",
       "    <tr>\n",
       "      <th>2</th>\n",
       "      <td>4.262962e+12</td>\n",
       "      <td>5642549</td>\n",
       "      <td>F</td>\n",
       "      <td>2016-04-29T16:19:04Z</td>\n",
       "      <td>2016-04-29T00:00:00Z</td>\n",
       "      <td>62</td>\n",
       "      <td>MATA DA PRAIA</td>\n",
       "      <td>0</td>\n",
       "      <td>0</td>\n",
       "      <td>0</td>\n",
       "      <td>0</td>\n",
       "      <td>0</td>\n",
       "      <td>0</td>\n",
       "      <td>No</td>\n",
       "    </tr>\n",
       "    <tr>\n",
       "      <th>3</th>\n",
       "      <td>8.679512e+11</td>\n",
       "      <td>5642828</td>\n",
       "      <td>F</td>\n",
       "      <td>2016-04-29T17:29:31Z</td>\n",
       "      <td>2016-04-29T00:00:00Z</td>\n",
       "      <td>8</td>\n",
       "      <td>PONTAL DE CAMBURI</td>\n",
       "      <td>0</td>\n",
       "      <td>0</td>\n",
       "      <td>0</td>\n",
       "      <td>0</td>\n",
       "      <td>0</td>\n",
       "      <td>0</td>\n",
       "      <td>No</td>\n",
       "    </tr>\n",
       "    <tr>\n",
       "      <th>4</th>\n",
       "      <td>8.841186e+12</td>\n",
       "      <td>5642494</td>\n",
       "      <td>F</td>\n",
       "      <td>2016-04-29T16:07:23Z</td>\n",
       "      <td>2016-04-29T00:00:00Z</td>\n",
       "      <td>56</td>\n",
       "      <td>JARDIM DA PENHA</td>\n",
       "      <td>0</td>\n",
       "      <td>1</td>\n",
       "      <td>1</td>\n",
       "      <td>0</td>\n",
       "      <td>0</td>\n",
       "      <td>0</td>\n",
       "      <td>No</td>\n",
       "    </tr>\n",
       "  </tbody>\n",
       "</table>\n",
       "</div>"
      ],
      "text/plain": [
       "      PatientId  AppointmentID Gender          ScheduledDay  \\\n",
       "0  2.987250e+13        5642903      F  2016-04-29T18:38:08Z   \n",
       "1  5.589978e+14        5642503      M  2016-04-29T16:08:27Z   \n",
       "2  4.262962e+12        5642549      F  2016-04-29T16:19:04Z   \n",
       "3  8.679512e+11        5642828      F  2016-04-29T17:29:31Z   \n",
       "4  8.841186e+12        5642494      F  2016-04-29T16:07:23Z   \n",
       "\n",
       "         AppointmentDay  Age      Neighbourhood  Scholarship  Hipertension  \\\n",
       "0  2016-04-29T00:00:00Z   62    JARDIM DA PENHA            0             1   \n",
       "1  2016-04-29T00:00:00Z   56    JARDIM DA PENHA            0             0   \n",
       "2  2016-04-29T00:00:00Z   62      MATA DA PRAIA            0             0   \n",
       "3  2016-04-29T00:00:00Z    8  PONTAL DE CAMBURI            0             0   \n",
       "4  2016-04-29T00:00:00Z   56    JARDIM DA PENHA            0             1   \n",
       "\n",
       "   Diabetes  Alcoholism  Handcap  SMS_received No-show  \n",
       "0         0           0        0             0      No  \n",
       "1         0           0        0             0      No  \n",
       "2         0           0        0             0      No  \n",
       "3         0           0        0             0      No  \n",
       "4         1           0        0             0      No  "
      ]
     },
     "execution_count": 8,
     "metadata": {},
     "output_type": "execute_result"
    }
   ],
   "source": [
    "df.head()"
   ]
  },
  {
   "cell_type": "code",
   "execution_count": 9,
   "metadata": {
    "scrolled": true
   },
   "outputs": [
    {
     "data": {
      "text/plain": [
       "0       2016-04-29T00:00:00Z\n",
       "2151    2016-04-29T00:00:00Z\n",
       "2152    2016-04-29T00:00:00Z\n",
       "2153    2016-04-29T00:00:00Z\n",
       "2154    2016-04-29T00:00:00Z\n",
       "Name: AppointmentDay, dtype: object"
      ]
     },
     "execution_count": 9,
     "metadata": {},
     "output_type": "execute_result"
    }
   ],
   "source": [
    "# Checking how much the data covers over the year\n",
    "df.AppointmentDay.sort_values()[:5]"
   ]
  },
  {
   "cell_type": "code",
   "execution_count": 10,
   "metadata": {},
   "outputs": [
    {
     "data": {
      "text/plain": [
       "92055    2016-06-08T00:00:00Z\n",
       "99217    2016-06-08T00:00:00Z\n",
       "99218    2016-06-08T00:00:00Z\n",
       "99224    2016-06-08T00:00:00Z\n",
       "91900    2016-06-08T00:00:00Z\n",
       "Name: AppointmentDay, dtype: object"
      ]
     },
     "execution_count": 10,
     "metadata": {},
     "output_type": "execute_result"
    }
   ],
   "source": [
    "df.AppointmentDay.sort_values()[-5:]"
   ]
  },
  {
   "cell_type": "markdown",
   "metadata": {},
   "source": [
    "### Assessing\n",
    "\n",
    "#### Quality Issues\n",
    "1. We won't use PatientId, AppointmentID, ScheduledDay, and AppointmentDay for analysis.\n",
    "2. Age has a record of value = -1.\n",
    "3. The name of No-show column could be inconvenient.\n",
    "\n",
    "#### Tidiness Issues\n",
    "There's no tidiness issue."
   ]
  },
  {
   "cell_type": "markdown",
   "metadata": {},
   "source": [
    "### Cleaning"
   ]
  },
  {
   "cell_type": "code",
   "execution_count": 11,
   "metadata": {},
   "outputs": [],
   "source": [
    "df_clean = df.copy()"
   ]
  },
  {
   "cell_type": "markdown",
   "metadata": {},
   "source": [
    "##### Define\n",
    "1. Dropping PatientId, AppointmentID, ScheduledDay, and AppointmentDay as we won't use them for analysis.\n",
    "2. Drop the record of Age = -1\n",
    "3. Renaming No-show column by Show, and replacing Yes by 0 and No by 1 just for clarity and avoiding misconveniention."
   ]
  },
  {
   "cell_type": "markdown",
   "metadata": {},
   "source": [
    "##### Code"
   ]
  },
  {
   "cell_type": "code",
   "execution_count": 12,
   "metadata": {},
   "outputs": [],
   "source": [
    "# 1. Dropping PatientId, AppointmentID, ScheduledDay, and AppointmentDay.\n",
    "df_clean.drop(columns=['PatientId', 'AppointmentID', 'ScheduledDay', 'AppointmentDay'], inplace=True)"
   ]
  },
  {
   "cell_type": "code",
   "execution_count": 13,
   "metadata": {},
   "outputs": [],
   "source": [
    "# 2. Drop the record of Age < 0.\n",
    "df_clean.drop(index=df_clean[df_clean['Age'] < 0].index[0], inplace=True)"
   ]
  },
  {
   "cell_type": "code",
   "execution_count": 14,
   "metadata": {},
   "outputs": [],
   "source": [
    "# 3. Replacing No-show by show, Yes by 0, and No by 1\n",
    "df_clean.rename(columns={'No-show': 'Show'}, inplace=True)\n",
    "df_clean.loc[df_clean['Show'] == 'Yes', ['Show']] = 0\n",
    "df_clean.loc[df_clean['Show'] == 'No', ['Show']] = 1"
   ]
  },
  {
   "cell_type": "markdown",
   "metadata": {},
   "source": [
    "##### Test"
   ]
  },
  {
   "cell_type": "code",
   "execution_count": 15,
   "metadata": {},
   "outputs": [
    {
     "data": {
      "text/html": [
       "<div>\n",
       "<style scoped>\n",
       "    .dataframe tbody tr th:only-of-type {\n",
       "        vertical-align: middle;\n",
       "    }\n",
       "\n",
       "    .dataframe tbody tr th {\n",
       "        vertical-align: top;\n",
       "    }\n",
       "\n",
       "    .dataframe thead th {\n",
       "        text-align: right;\n",
       "    }\n",
       "</style>\n",
       "<table border=\"1\" class=\"dataframe\">\n",
       "  <thead>\n",
       "    <tr style=\"text-align: right;\">\n",
       "      <th></th>\n",
       "      <th>Gender</th>\n",
       "      <th>Age</th>\n",
       "      <th>Neighbourhood</th>\n",
       "      <th>Scholarship</th>\n",
       "      <th>Hipertension</th>\n",
       "      <th>Diabetes</th>\n",
       "      <th>Alcoholism</th>\n",
       "      <th>Handcap</th>\n",
       "      <th>SMS_received</th>\n",
       "      <th>Show</th>\n",
       "    </tr>\n",
       "  </thead>\n",
       "  <tbody>\n",
       "  </tbody>\n",
       "</table>\n",
       "</div>"
      ],
      "text/plain": [
       "Empty DataFrame\n",
       "Columns: [Gender, Age, Neighbourhood, Scholarship, Hipertension, Diabetes, Alcoholism, Handcap, SMS_received, Show]\n",
       "Index: []"
      ]
     },
     "execution_count": 15,
     "metadata": {},
     "output_type": "execute_result"
    }
   ],
   "source": [
    "df_clean[df_clean['Age'] < 0]"
   ]
  },
  {
   "cell_type": "code",
   "execution_count": 16,
   "metadata": {
    "scrolled": true
   },
   "outputs": [
    {
     "data": {
      "text/html": [
       "<div>\n",
       "<style scoped>\n",
       "    .dataframe tbody tr th:only-of-type {\n",
       "        vertical-align: middle;\n",
       "    }\n",
       "\n",
       "    .dataframe tbody tr th {\n",
       "        vertical-align: top;\n",
       "    }\n",
       "\n",
       "    .dataframe thead th {\n",
       "        text-align: right;\n",
       "    }\n",
       "</style>\n",
       "<table border=\"1\" class=\"dataframe\">\n",
       "  <thead>\n",
       "    <tr style=\"text-align: right;\">\n",
       "      <th></th>\n",
       "      <th>Gender</th>\n",
       "      <th>Age</th>\n",
       "      <th>Neighbourhood</th>\n",
       "      <th>Scholarship</th>\n",
       "      <th>Hipertension</th>\n",
       "      <th>Diabetes</th>\n",
       "      <th>Alcoholism</th>\n",
       "      <th>Handcap</th>\n",
       "      <th>SMS_received</th>\n",
       "      <th>Show</th>\n",
       "    </tr>\n",
       "  </thead>\n",
       "  <tbody>\n",
       "    <tr>\n",
       "      <th>0</th>\n",
       "      <td>F</td>\n",
       "      <td>62</td>\n",
       "      <td>JARDIM DA PENHA</td>\n",
       "      <td>0</td>\n",
       "      <td>1</td>\n",
       "      <td>0</td>\n",
       "      <td>0</td>\n",
       "      <td>0</td>\n",
       "      <td>0</td>\n",
       "      <td>1</td>\n",
       "    </tr>\n",
       "    <tr>\n",
       "      <th>1</th>\n",
       "      <td>M</td>\n",
       "      <td>56</td>\n",
       "      <td>JARDIM DA PENHA</td>\n",
       "      <td>0</td>\n",
       "      <td>0</td>\n",
       "      <td>0</td>\n",
       "      <td>0</td>\n",
       "      <td>0</td>\n",
       "      <td>0</td>\n",
       "      <td>1</td>\n",
       "    </tr>\n",
       "    <tr>\n",
       "      <th>2</th>\n",
       "      <td>F</td>\n",
       "      <td>62</td>\n",
       "      <td>MATA DA PRAIA</td>\n",
       "      <td>0</td>\n",
       "      <td>0</td>\n",
       "      <td>0</td>\n",
       "      <td>0</td>\n",
       "      <td>0</td>\n",
       "      <td>0</td>\n",
       "      <td>1</td>\n",
       "    </tr>\n",
       "    <tr>\n",
       "      <th>3</th>\n",
       "      <td>F</td>\n",
       "      <td>8</td>\n",
       "      <td>PONTAL DE CAMBURI</td>\n",
       "      <td>0</td>\n",
       "      <td>0</td>\n",
       "      <td>0</td>\n",
       "      <td>0</td>\n",
       "      <td>0</td>\n",
       "      <td>0</td>\n",
       "      <td>1</td>\n",
       "    </tr>\n",
       "    <tr>\n",
       "      <th>4</th>\n",
       "      <td>F</td>\n",
       "      <td>56</td>\n",
       "      <td>JARDIM DA PENHA</td>\n",
       "      <td>0</td>\n",
       "      <td>1</td>\n",
       "      <td>1</td>\n",
       "      <td>0</td>\n",
       "      <td>0</td>\n",
       "      <td>0</td>\n",
       "      <td>1</td>\n",
       "    </tr>\n",
       "  </tbody>\n",
       "</table>\n",
       "</div>"
      ],
      "text/plain": [
       "  Gender  Age      Neighbourhood  Scholarship  Hipertension  Diabetes  \\\n",
       "0      F   62    JARDIM DA PENHA            0             1         0   \n",
       "1      M   56    JARDIM DA PENHA            0             0         0   \n",
       "2      F   62      MATA DA PRAIA            0             0         0   \n",
       "3      F    8  PONTAL DE CAMBURI            0             0         0   \n",
       "4      F   56    JARDIM DA PENHA            0             1         1   \n",
       "\n",
       "   Alcoholism  Handcap  SMS_received Show  \n",
       "0           0        0             0    1  \n",
       "1           0        0             0    1  \n",
       "2           0        0             0    1  \n",
       "3           0        0             0    1  \n",
       "4           0        0             0    1  "
      ]
     },
     "execution_count": 16,
     "metadata": {},
     "output_type": "execute_result"
    }
   ],
   "source": [
    "df_clean.head()"
   ]
  },
  {
   "cell_type": "code",
   "execution_count": 17,
   "metadata": {},
   "outputs": [
    {
     "name": "stdout",
     "output_type": "stream",
     "text": [
      "<class 'pandas.core.frame.DataFrame'>\n",
      "Int64Index: 110526 entries, 0 to 110526\n",
      "Data columns (total 10 columns):\n",
      " #   Column         Non-Null Count   Dtype \n",
      "---  ------         --------------   ----- \n",
      " 0   Gender         110526 non-null  object\n",
      " 1   Age            110526 non-null  int64 \n",
      " 2   Neighbourhood  110526 non-null  object\n",
      " 3   Scholarship    110526 non-null  int64 \n",
      " 4   Hipertension   110526 non-null  int64 \n",
      " 5   Diabetes       110526 non-null  int64 \n",
      " 6   Alcoholism     110526 non-null  int64 \n",
      " 7   Handcap        110526 non-null  int64 \n",
      " 8   SMS_received   110526 non-null  int64 \n",
      " 9   Show           110526 non-null  object\n",
      "dtypes: int64(7), object(3)\n",
      "memory usage: 9.3+ MB\n"
     ]
    }
   ],
   "source": [
    "df_clean.info()"
   ]
  },
  {
   "cell_type": "code",
   "execution_count": 18,
   "metadata": {},
   "outputs": [
    {
     "name": "stdout",
     "output_type": "stream",
     "text": [
      "<class 'pandas.core.frame.DataFrame'>\n",
      "Int64Index: 110526 entries, 0 to 110526\n",
      "Data columns (total 10 columns):\n",
      " #   Column         Non-Null Count   Dtype \n",
      "---  ------         --------------   ----- \n",
      " 0   Gender         110526 non-null  object\n",
      " 1   Age            110526 non-null  int64 \n",
      " 2   Neighbourhood  110526 non-null  object\n",
      " 3   Scholarship    110526 non-null  int64 \n",
      " 4   Hipertension   110526 non-null  int64 \n",
      " 5   Diabetes       110526 non-null  int64 \n",
      " 6   Alcoholism     110526 non-null  int64 \n",
      " 7   Handcap        110526 non-null  int64 \n",
      " 8   SMS_received   110526 non-null  int64 \n",
      " 9   Show           110526 non-null  int32 \n",
      "dtypes: int32(1), int64(7), object(2)\n",
      "memory usage: 8.9+ MB\n"
     ]
    }
   ],
   "source": [
    "df_clean.Show = df_clean.Show.astype(int)\n",
    "df_clean.info()"
   ]
  },
  {
   "cell_type": "markdown",
   "metadata": {},
   "source": [
    "<a id='eda'></a>\n",
    "## Exploratory Data Analysis\n",
    "\n",
    "Before answering the questions, let's explore the data first.<br>\n",
    "I will explore the distructions of some columns like `Age`, `Gender`, `SMS_received`\n"
   ]
  },
  {
   "cell_type": "code",
   "execution_count": 19,
   "metadata": {},
   "outputs": [
    {
     "data": {
      "text/plain": [
       "1    0.798066\n",
       "0    0.201934\n",
       "Name: Show, dtype: float64"
      ]
     },
     "execution_count": 19,
     "metadata": {},
     "output_type": "execute_result"
    }
   ],
   "source": [
    "## explorring features distribution\n",
    "# No Show\n",
    "df_clean['Show'].value_counts(normalize=True)"
   ]
  },
  {
   "cell_type": "code",
   "execution_count": 20,
   "metadata": {
    "scrolled": false
   },
   "outputs": [
    {
     "data": {
      "image/png": "[encoded data removed]",
      "text/plain": [
       "<Figure size 576x576 with 1 Axes>"
      ]
     },
     "metadata": {},
     "output_type": "display_data"
    }
   ],
   "source": [
    "plt.figure(figsize=(8, 8))\n",
    "\n",
    "labels = ['Yes', 'No']\n",
    "colors = ['#457b9d', '#023047']\n",
    "explode = [0.01, 0.01]\n",
    "\n",
    "\n",
    "# df['Gender'].value_counts().plot.pie(labels=labels, autopct='%1.0f%%');\n",
    "plt.pie(df_clean['Show'].value_counts(), colors=colors, autopct='%1.1f%%', textprops={'color':'w', 'size':15}, explode=explode)\n",
    "\n",
    "\n",
    "plt.title('Show distribution', fontdict={'fontsize':15,'fontweight':'bold'})\n",
    "\n",
    "plt.legend(labels, fontsize='large', ncol=2, loc=9)\n",
    "plt.show()"
   ]
  },
  {
   "cell_type": "markdown",
   "metadata": {},
   "source": [
    "**Only 20% of people did not show up on their appointments**"
   ]
  },
  {
   "cell_type": "code",
   "execution_count": 21,
   "metadata": {
    "scrolled": true
   },
   "outputs": [
    {
     "data": {
      "text/plain": [
       "F    0.649974\n",
       "M    0.350026\n",
       "Name: Gender, dtype: float64"
      ]
     },
     "execution_count": 21,
     "metadata": {},
     "output_type": "execute_result"
    }
   ],
   "source": [
    "# No Show\n",
    "df_clean['Gender'].value_counts(normalize=True)"
   ]
  },
  {
   "cell_type": "code",
   "execution_count": 22,
   "metadata": {
    "scrolled": false
   },
   "outputs": [
    {
     "data": {
      "image/png": "[encoded data removed]",
      "text/plain": [
       "<Figure size 576x576 with 1 Axes>"
      ]
     },
     "metadata": {},
     "output_type": "display_data"
    }
   ],
   "source": [
    "plt.figure(figsize=(8, 8))\n",
    "\n",
    "labels = ['Female', 'Male']\n",
    "colors = ['#457b9d', '#023047']\n",
    "# df['Gender'].value_counts().plot.pie(labels=labels, autopct='%1.0f%%', textprobs={'color':'w'});\n",
    "plt.pie(df_clean.query('Show == 0')['Gender'].value_counts(), colors=colors, autopct='%1.1f%%', textprops={'color':'w', 'size':15})\n",
    "\n",
    "\n",
    "plt.title('Gender distribution', fontdict={'fontsize':15,'fontweight':'bold'})\n",
    "\n",
    "plt.legend(labels, fontsize='large', ncol=2, loc=9)\n",
    "plt.show()\n"
   ]
  },
  {
   "cell_type": "code",
   "execution_count": 23,
   "metadata": {},
   "outputs": [
    {
     "data": {
      "image/png": "[encoded data removed]",
      "text/plain": [
       "<Figure size 576x576 with 1 Axes>"
      ]
     },
     "metadata": {},
     "output_type": "display_data"
    }
   ],
   "source": [
    "plt.figure(figsize=(8, 8))\n",
    "\n",
    "labels = ['No', 'Yes']\n",
    "colors = ['#457b9d', '#023047']\n",
    "# df['Gender'].value_counts().plot.pie(labels=labels, autopct='%1.0f%%', textprobs={'color':'w'});\n",
    "plt.pie(df_clean.query('Show == 0')['SMS_received'].value_counts(), colors=colors, autopct='%1.1f%%', textprops={'color':'w', 'size':15})\n",
    "\n",
    "\n",
    "plt.title('SMS received', fontdict={'fontsize':15,'fontweight':'bold'})\n",
    "\n",
    "plt.legend(labels, fontsize='large', ncol=2, loc=9)\n",
    "plt.show()\n"
   ]
  },
  {
   "cell_type": "markdown",
   "metadata": {},
   "source": [
    "**44% of people revieved SMS messeges**"
   ]
  },
  {
   "cell_type": "markdown",
   "metadata": {},
   "source": [
    "<a id='q1'></a>\n",
    "### Q1: Does age affect on people's appointments showing up ? And which age segment is caring less/more about health?"
   ]
  },
  {
   "cell_type": "markdown",
   "metadata": {},
   "source": [
    "In order to gret a better understanding between the Age & Show variables, let's investigate the Age column."
   ]
  },
  {
   "cell_type": "code",
   "execution_count": 24,
   "metadata": {},
   "outputs": [
    {
     "name": "stdout",
     "output_type": "stream",
     "text": [
      "<class 'pandas.core.frame.DataFrame'>\n",
      "Int64Index: 110526 entries, 0 to 110526\n",
      "Data columns (total 10 columns):\n",
      " #   Column         Non-Null Count   Dtype \n",
      "---  ------         --------------   ----- \n",
      " 0   Gender         110526 non-null  object\n",
      " 1   Age            110526 non-null  int64 \n",
      " 2   Neighbourhood  110526 non-null  object\n",
      " 3   Scholarship    110526 non-null  int64 \n",
      " 4   Hipertension   110526 non-null  int64 \n",
      " 5   Diabetes       110526 non-null  int64 \n",
      " 6   Alcoholism     110526 non-null  int64 \n",
      " 7   Handcap        110526 non-null  int64 \n",
      " 8   SMS_received   110526 non-null  int64 \n",
      " 9   Show           110526 non-null  int32 \n",
      "dtypes: int32(1), int64(7), object(2)\n",
      "memory usage: 8.9+ MB\n"
     ]
    }
   ],
   "source": [
    "df_clean.info()"
   ]
  },
  {
   "cell_type": "code",
   "execution_count": 25,
   "metadata": {
    "scrolled": true
   },
   "outputs": [
    {
     "data": {
      "text/plain": [
       "Age\n",
       "0      2900\n",
       "1      1858\n",
       "52     1449\n",
       "56     1372\n",
       "2      1366\n",
       "       ... \n",
       "98        5\n",
       "100       4\n",
       "102       2\n",
       "115       2\n",
       "99        1\n",
       "Name: Show, Length: 103, dtype: int32"
      ]
     },
     "execution_count": 25,
     "metadata": {},
     "output_type": "execute_result"
    }
   ],
   "source": [
    "# Number of showing ups for each age\n",
    "df_clean.groupby('Age').sum().Show.sort_values(ascending=False)"
   ]
  },
  {
   "cell_type": "markdown",
   "metadata": {},
   "source": [
    "As we can see it looks like that the largest number of showing up times is when `Age = 0`."
   ]
  },
  {
   "cell_type": "code",
   "execution_count": 26,
   "metadata": {},
   "outputs": [],
   "source": [
    "def replacing(df):\n",
    "    \"\"\"\n",
    "    Segment each age into an age segment started from 5 to 85 years\n",
    "    and divided by 10 years.\n",
    "    First segment is from 0 to 5 years.\n",
    "    Last segment is from 85 to the max years old person.\n",
    "    Each segment in between is within 10 years range.\n",
    "    \n",
    "    returns: df, a dataframe contains the age segments.\n",
    "    \"\"\"\n",
    "    lower = 5\n",
    "    upper = 15\n",
    "    lower_2 = lower\n",
    "    upper_2 = upper\n",
    "    \n",
    "    # Segment the age into multiple segments using integers first then replace \n",
    "    # the integers with their corresponding string segment.\n",
    "    df.loc[df.Age <= 5, ['Age']] = 5\n",
    "    while(1):\n",
    "        df.loc[(lower < df.Age) & (df.Age <= upper), ['Age']] = upper\n",
    "        lower += 10\n",
    "        upper += 10\n",
    "        if upper > 85:\n",
    "            break\n",
    "    df.loc[df.Age > 85, ['Age']] = int(df_clean.Age.max())\n",
    "    \n",
    "    \n",
    "    # Creating a copy from the cleaned dataset to segment the age.\n",
    "    df.loc[df.Age == 5, ['Age']] = '0 - 5'\n",
    "    while(1):\n",
    "        df.loc[df.Age == upper_2, ['Age']] = '{} - {}'.format(lower_2+1, upper_2)\n",
    "        upper_2 += 10\n",
    "        lower_2 += 10\n",
    "        if upper_2 > 85:\n",
    "            break\n",
    "    df.loc[df.Age == int(df_clean.Age.max()), ['Age']] = '86 - {}'.format(df_clean.Age.max()) \n",
    "    \n",
    "    return df"
   ]
  },
  {
   "cell_type": "code",
   "execution_count": 27,
   "metadata": {},
   "outputs": [],
   "source": [
    "# Creating a copy from the cleaned dataset to segment the age.\n",
    "df_clean_segments = df_clean.copy()\n",
    "\n",
    "df_clean_segments = replacing(df_clean_segments)"
   ]
  },
  {
   "cell_type": "code",
   "execution_count": 28,
   "metadata": {},
   "outputs": [
    {
     "data": {
      "text/html": [
       "<div>\n",
       "<style scoped>\n",
       "    .dataframe tbody tr th:only-of-type {\n",
       "        vertical-align: middle;\n",
       "    }\n",
       "\n",
       "    .dataframe tbody tr th {\n",
       "        vertical-align: top;\n",
       "    }\n",
       "\n",
       "    .dataframe thead th {\n",
       "        text-align: right;\n",
       "    }\n",
       "</style>\n",
       "<table border=\"1\" class=\"dataframe\">\n",
       "  <thead>\n",
       "    <tr style=\"text-align: right;\">\n",
       "      <th></th>\n",
       "      <th>Gender</th>\n",
       "      <th>Neighbourhood</th>\n",
       "      <th>Scholarship</th>\n",
       "      <th>Hipertension</th>\n",
       "      <th>Diabetes</th>\n",
       "      <th>Alcoholism</th>\n",
       "      <th>Handcap</th>\n",
       "      <th>SMS_received</th>\n",
       "      <th>Show</th>\n",
       "    </tr>\n",
       "    <tr>\n",
       "      <th>Age</th>\n",
       "      <th></th>\n",
       "      <th></th>\n",
       "      <th></th>\n",
       "      <th></th>\n",
       "      <th></th>\n",
       "      <th></th>\n",
       "      <th></th>\n",
       "      <th></th>\n",
       "      <th></th>\n",
       "    </tr>\n",
       "  </thead>\n",
       "  <tbody>\n",
       "    <tr>\n",
       "      <th>0 - 5</th>\n",
       "      <td>11731</td>\n",
       "      <td>11731</td>\n",
       "      <td>11731</td>\n",
       "      <td>11731</td>\n",
       "      <td>11731</td>\n",
       "      <td>11731</td>\n",
       "      <td>11731</td>\n",
       "      <td>11731</td>\n",
       "      <td>11731</td>\n",
       "    </tr>\n",
       "    <tr>\n",
       "      <th>16 - 25</th>\n",
       "      <td>14131</td>\n",
       "      <td>14131</td>\n",
       "      <td>14131</td>\n",
       "      <td>14131</td>\n",
       "      <td>14131</td>\n",
       "      <td>14131</td>\n",
       "      <td>14131</td>\n",
       "      <td>14131</td>\n",
       "      <td>14131</td>\n",
       "    </tr>\n",
       "    <tr>\n",
       "      <th>26 - 35</th>\n",
       "      <td>14404</td>\n",
       "      <td>14404</td>\n",
       "      <td>14404</td>\n",
       "      <td>14404</td>\n",
       "      <td>14404</td>\n",
       "      <td>14404</td>\n",
       "      <td>14404</td>\n",
       "      <td>14404</td>\n",
       "      <td>14404</td>\n",
       "    </tr>\n",
       "    <tr>\n",
       "      <th>36 - 45</th>\n",
       "      <td>14582</td>\n",
       "      <td>14582</td>\n",
       "      <td>14582</td>\n",
       "      <td>14582</td>\n",
       "      <td>14582</td>\n",
       "      <td>14582</td>\n",
       "      <td>14582</td>\n",
       "      <td>14582</td>\n",
       "      <td>14582</td>\n",
       "    </tr>\n",
       "    <tr>\n",
       "      <th>46 - 55</th>\n",
       "      <td>15437</td>\n",
       "      <td>15437</td>\n",
       "      <td>15437</td>\n",
       "      <td>15437</td>\n",
       "      <td>15437</td>\n",
       "      <td>15437</td>\n",
       "      <td>15437</td>\n",
       "      <td>15437</td>\n",
       "      <td>15437</td>\n",
       "    </tr>\n",
       "    <tr>\n",
       "      <th>56 - 65</th>\n",
       "      <td>14203</td>\n",
       "      <td>14203</td>\n",
       "      <td>14203</td>\n",
       "      <td>14203</td>\n",
       "      <td>14203</td>\n",
       "      <td>14203</td>\n",
       "      <td>14203</td>\n",
       "      <td>14203</td>\n",
       "      <td>14203</td>\n",
       "    </tr>\n",
       "    <tr>\n",
       "      <th>6 - 15</th>\n",
       "      <td>12737</td>\n",
       "      <td>12737</td>\n",
       "      <td>12737</td>\n",
       "      <td>12737</td>\n",
       "      <td>12737</td>\n",
       "      <td>12737</td>\n",
       "      <td>12737</td>\n",
       "      <td>12737</td>\n",
       "      <td>12737</td>\n",
       "    </tr>\n",
       "    <tr>\n",
       "      <th>66 - 75</th>\n",
       "      <td>7909</td>\n",
       "      <td>7909</td>\n",
       "      <td>7909</td>\n",
       "      <td>7909</td>\n",
       "      <td>7909</td>\n",
       "      <td>7909</td>\n",
       "      <td>7909</td>\n",
       "      <td>7909</td>\n",
       "      <td>7909</td>\n",
       "    </tr>\n",
       "    <tr>\n",
       "      <th>76 - 85</th>\n",
       "      <td>4232</td>\n",
       "      <td>4232</td>\n",
       "      <td>4232</td>\n",
       "      <td>4232</td>\n",
       "      <td>4232</td>\n",
       "      <td>4232</td>\n",
       "      <td>4232</td>\n",
       "      <td>4232</td>\n",
       "      <td>4232</td>\n",
       "    </tr>\n",
       "    <tr>\n",
       "      <th>86 - 115</th>\n",
       "      <td>1160</td>\n",
       "      <td>1160</td>\n",
       "      <td>1160</td>\n",
       "      <td>1160</td>\n",
       "      <td>1160</td>\n",
       "      <td>1160</td>\n",
       "      <td>1160</td>\n",
       "      <td>1160</td>\n",
       "      <td>1160</td>\n",
       "    </tr>\n",
       "  </tbody>\n",
       "</table>\n",
       "</div>"
      ],
      "text/plain": [
       "          Gender  Neighbourhood  Scholarship  Hipertension  Diabetes  \\\n",
       "Age                                                                    \n",
       "0 - 5      11731          11731        11731         11731     11731   \n",
       "16 - 25    14131          14131        14131         14131     14131   \n",
       "26 - 35    14404          14404        14404         14404     14404   \n",
       "36 - 45    14582          14582        14582         14582     14582   \n",
       "46 - 55    15437          15437        15437         15437     15437   \n",
       "56 - 65    14203          14203        14203         14203     14203   \n",
       "6 - 15     12737          12737        12737         12737     12737   \n",
       "66 - 75     7909           7909         7909          7909      7909   \n",
       "76 - 85     4232           4232         4232          4232      4232   \n",
       "86 - 115    1160           1160         1160          1160      1160   \n",
       "\n",
       "          Alcoholism  Handcap  SMS_received   Show  \n",
       "Age                                                 \n",
       "0 - 5          11731    11731         11731  11731  \n",
       "16 - 25        14131    14131         14131  14131  \n",
       "26 - 35        14404    14404         14404  14404  \n",
       "36 - 45        14582    14582         14582  14582  \n",
       "46 - 55        15437    15437         15437  15437  \n",
       "56 - 65        14203    14203         14203  14203  \n",
       "6 - 15         12737    12737         12737  12737  \n",
       "66 - 75         7909     7909          7909   7909  \n",
       "76 - 85         4232     4232          4232   4232  \n",
       "86 - 115        1160     1160          1160   1160  "
      ]
     },
     "execution_count": 28,
     "metadata": {},
     "output_type": "execute_result"
    }
   ],
   "source": [
    "df_clean_segments.groupby('Age').count()"
   ]
  },
  {
   "cell_type": "code",
   "execution_count": 29,
   "metadata": {},
   "outputs": [
    {
     "data": {
      "image/png": "[encoded data removed]",
      "text/plain": [
       "<Figure size 720x360 with 1 Axes>"
      ]
     },
     "metadata": {
      "needs_background": "light"
     },
     "output_type": "display_data"
    }
   ],
   "source": [
    "# Creating pandas series that contains the number of showing up(sum of 1s) for each age segment.\n",
    "age_segments = df_clean_segments.groupby('Age').sum().Show.sort_values(ascending=False)\n",
    "\n",
    "locations = np.arange(len(age_segments))\n",
    "heights = list(age_segments)\n",
    "labels = age_segments.index\n",
    "\n",
    "\n",
    "\n",
    "f = plt.figure(figsize=(10, 5))\n",
    "\n",
    "ax1 = f.add_subplot(1, 1, 1)\n",
    "ax1.bar(locations, heights, tick_label=labels, color=colors[0])\n",
    "ax1.set_title(\"Number of Showing Up Times per Age Segments\", fontdict={'fontsize':15,'fontweight':'bold'})\n",
    "ax1.set_xlabel(\"Age Segments\")\n",
    "\n",
    "ax1.set_ylabel(\"Number of Showing Up Times\");"
   ]
  },
  {
   "cell_type": "markdown",
   "metadata": {},
   "source": [
    "As we can see the largest times number is for age segments 46 - 65.\n",
    "\n",
    "But, let's change the segments a bit to gather better insights."
   ]
  },
  {
   "cell_type": "code",
   "execution_count": 30,
   "metadata": {
    "scrolled": true
   },
   "outputs": [],
   "source": [
    "# Creating a copy from the cleaned dataset to segment the age.\n",
    "df_clean_segments = df_clean.copy()\n",
    "\n",
    "# Creating a function for ease of age segmentation in next sections.\n",
    "def segmenting(df_clean_segments):\n",
    "    # Segment the age into multiple segments using integers first then replace the integers with their corresponding segment.\n",
    "    df_clean_segments.loc[df_clean_segments.Age <= 5, ['Age']] = 5 # '0-5'\n",
    "    df_clean_segments.loc[(5 < df_clean_segments.Age) & (df_clean_segments.Age <= 15), ['Age']] = 15 #'6-15'\n",
    "    df_clean_segments.loc[(15 < df_clean_segments.Age) & (df_clean_segments.Age <= 25), ['Age']] = 25 #'16-25'\n",
    "    df_clean_segments.loc[(25 < df_clean_segments.Age) & (df_clean_segments.Age <= 40), ['Age']] = 40 #'26-40'\n",
    "    df_clean_segments.loc[(40 < df_clean_segments.Age) & (df_clean_segments.Age <= 60), ['Age']] = 60 #'41-60'\n",
    "    df_clean_segments.loc[(60 < df_clean_segments.Age) & (df_clean_segments.Age <= 80), ['Age']] = 80 #'61-80'\n",
    "    df_clean_segments.loc[df_clean_segments.Age > 80, ['Age']] = int(df_clean.Age.max()) #'81-{}'.format(df_clean.Age.max())\n",
    "\n",
    "    # Replace the integers with their corresponding segment.\n",
    "    df_clean_segments.loc[df_clean_segments.Age == 5, ['Age']] = '0 - 5'\n",
    "    df_clean_segments.loc[df_clean_segments.Age == 15, ['Age']] = '16 - 25'\n",
    "    df_clean_segments.loc[df_clean_segments.Age == 25, ['Age']] = '6 - 15'\n",
    "    df_clean_segments.loc[df_clean_segments.Age == 40, ['Age']] = '26 - 40'\n",
    "    df_clean_segments.loc[df_clean_segments.Age == 60, ['Age']] = '41 - 60'\n",
    "    df_clean_segments.loc[df_clean_segments.Age == 80, ['Age']] = '61 - 80'\n",
    "    df_clean_segments.loc[df_clean_segments.Age == int(df_clean.Age.max()), ['Age']] = '81 - {}'.format(df_clean.Age.max())\n",
    "\n",
    "segmenting(df_clean_segments)"
   ]
  },
  {
   "cell_type": "code",
   "execution_count": 31,
   "metadata": {
    "scrolled": false
   },
   "outputs": [
    {
     "data": {
      "image/png": "[encoded data removed]",
      "text/plain": [
       "<Figure size 720x504 with 1 Axes>"
      ]
     },
     "metadata": {
      "needs_background": "light"
     },
     "output_type": "display_data"
    }
   ],
   "source": [
    "# Creating pandas series that contains the number of showing up(sum of 1s) for each age segment.\n",
    "age_segments = df_clean_segments.groupby('Age').sum().Show.sort_values(ascending=False)\n",
    "\n",
    "locations = np.arange(len(age_segments))\n",
    "heights = list(age_segments)\n",
    "labels = age_segments.index\n",
    "\n",
    "f = plt.figure(figsize=(10, 7))\n",
    "\n",
    "ax1 = f.add_subplot(1, 1, 1)\n",
    "ax1.bar(locations, heights, tick_label=labels, color=colors[0])\n",
    "ax1.set_title(\"Number of Showing Up Times per Age Segments\", fontdict={'fontsize':15,'fontweight':'bold'})\n",
    "ax1.set_xlabel(\"Age Segments\")\n",
    "ax1.set_ylabel(\"The number \");"
   ]
  },
  {
   "cell_type": "markdown",
   "metadata": {},
   "source": [
    "The age segment from 41 to 60 years old are the most age segment showing up times for their appointment."
   ]
  },
  {
   "cell_type": "markdown",
   "metadata": {},
   "source": [
    "<a id='q2'></a>\n",
    "### Q2: Which gender of each age segment is caring less/more about health?"
   ]
  },
  {
   "cell_type": "code",
   "execution_count": 32,
   "metadata": {
    "scrolled": true
   },
   "outputs": [],
   "source": [
    "# Hot encoding the gender column > Which means we should drop the rest columns for avoiding misconvinention,\n",
    "# and focusing only on the columns that we're going to use.\n",
    "one_hot_df_clean = pd.get_dummies(df_clean.drop(columns=['Neighbourhood', 'Scholarship', 'Hipertension',\n",
    "                                                         'Diabetes', 'Alcoholism', 'Handcap', 'SMS_received']))"
   ]
  },
  {
   "cell_type": "code",
   "execution_count": 33,
   "metadata": {},
   "outputs": [
    {
     "data": {
      "text/html": [
       "<div>\n",
       "<style scoped>\n",
       "    .dataframe tbody tr th:only-of-type {\n",
       "        vertical-align: middle;\n",
       "    }\n",
       "\n",
       "    .dataframe tbody tr th {\n",
       "        vertical-align: top;\n",
       "    }\n",
       "\n",
       "    .dataframe thead th {\n",
       "        text-align: right;\n",
       "    }\n",
       "</style>\n",
       "<table border=\"1\" class=\"dataframe\">\n",
       "  <thead>\n",
       "    <tr style=\"text-align: right;\">\n",
       "      <th></th>\n",
       "      <th>Age</th>\n",
       "      <th>Show</th>\n",
       "      <th>Gender_F</th>\n",
       "      <th>Gender_M</th>\n",
       "    </tr>\n",
       "  </thead>\n",
       "  <tbody>\n",
       "    <tr>\n",
       "      <th>0</th>\n",
       "      <td>62</td>\n",
       "      <td>1</td>\n",
       "      <td>1</td>\n",
       "      <td>0</td>\n",
       "    </tr>\n",
       "    <tr>\n",
       "      <th>1</th>\n",
       "      <td>56</td>\n",
       "      <td>1</td>\n",
       "      <td>0</td>\n",
       "      <td>1</td>\n",
       "    </tr>\n",
       "    <tr>\n",
       "      <th>2</th>\n",
       "      <td>62</td>\n",
       "      <td>1</td>\n",
       "      <td>1</td>\n",
       "      <td>0</td>\n",
       "    </tr>\n",
       "    <tr>\n",
       "      <th>3</th>\n",
       "      <td>8</td>\n",
       "      <td>1</td>\n",
       "      <td>1</td>\n",
       "      <td>0</td>\n",
       "    </tr>\n",
       "    <tr>\n",
       "      <th>4</th>\n",
       "      <td>56</td>\n",
       "      <td>1</td>\n",
       "      <td>1</td>\n",
       "      <td>0</td>\n",
       "    </tr>\n",
       "    <tr>\n",
       "      <th>5</th>\n",
       "      <td>76</td>\n",
       "      <td>1</td>\n",
       "      <td>1</td>\n",
       "      <td>0</td>\n",
       "    </tr>\n",
       "    <tr>\n",
       "      <th>6</th>\n",
       "      <td>23</td>\n",
       "      <td>0</td>\n",
       "      <td>1</td>\n",
       "      <td>0</td>\n",
       "    </tr>\n",
       "    <tr>\n",
       "      <th>7</th>\n",
       "      <td>39</td>\n",
       "      <td>0</td>\n",
       "      <td>1</td>\n",
       "      <td>0</td>\n",
       "    </tr>\n",
       "    <tr>\n",
       "      <th>8</th>\n",
       "      <td>21</td>\n",
       "      <td>1</td>\n",
       "      <td>1</td>\n",
       "      <td>0</td>\n",
       "    </tr>\n",
       "    <tr>\n",
       "      <th>9</th>\n",
       "      <td>19</td>\n",
       "      <td>1</td>\n",
       "      <td>1</td>\n",
       "      <td>0</td>\n",
       "    </tr>\n",
       "  </tbody>\n",
       "</table>\n",
       "</div>"
      ],
      "text/plain": [
       "   Age  Show  Gender_F  Gender_M\n",
       "0   62     1         1         0\n",
       "1   56     1         0         1\n",
       "2   62     1         1         0\n",
       "3    8     1         1         0\n",
       "4   56     1         1         0\n",
       "5   76     1         1         0\n",
       "6   23     0         1         0\n",
       "7   39     0         1         0\n",
       "8   21     1         1         0\n",
       "9   19     1         1         0"
      ]
     },
     "execution_count": 33,
     "metadata": {},
     "output_type": "execute_result"
    }
   ],
   "source": [
    "one_hot_df_clean.head(10)"
   ]
  },
  {
   "cell_type": "code",
   "execution_count": 34,
   "metadata": {},
   "outputs": [],
   "source": [
    "# Creating a copy from the one hot encoded data to segment the age.\n",
    "df_clean_segments = one_hot_df_clean.copy()\n",
    "\n",
    "\n",
    "# Segment the age into multiple segments using the previous function\n",
    "segmenting(df_clean_segments)"
   ]
  },
  {
   "cell_type": "code",
   "execution_count": 35,
   "metadata": {},
   "outputs": [
    {
     "data": {
      "text/html": [
       "<div>\n",
       "<style scoped>\n",
       "    .dataframe tbody tr th:only-of-type {\n",
       "        vertical-align: middle;\n",
       "    }\n",
       "\n",
       "    .dataframe tbody tr th {\n",
       "        vertical-align: top;\n",
       "    }\n",
       "\n",
       "    .dataframe thead th {\n",
       "        text-align: right;\n",
       "    }\n",
       "</style>\n",
       "<table border=\"1\" class=\"dataframe\">\n",
       "  <thead>\n",
       "    <tr style=\"text-align: right;\">\n",
       "      <th></th>\n",
       "      <th>Show</th>\n",
       "      <th>Gender_F</th>\n",
       "      <th>Gender_M</th>\n",
       "    </tr>\n",
       "    <tr>\n",
       "      <th>Age</th>\n",
       "      <th></th>\n",
       "      <th></th>\n",
       "      <th></th>\n",
       "    </tr>\n",
       "  </thead>\n",
       "  <tbody>\n",
       "    <tr>\n",
       "      <th>0 - 5</th>\n",
       "      <td>9546</td>\n",
       "      <td>4545.0</td>\n",
       "      <td>5001.0</td>\n",
       "    </tr>\n",
       "    <tr>\n",
       "      <th>16 - 25</th>\n",
       "      <td>9674</td>\n",
       "      <td>4825.0</td>\n",
       "      <td>4849.0</td>\n",
       "    </tr>\n",
       "    <tr>\n",
       "      <th>26 - 40</th>\n",
       "      <td>17180</td>\n",
       "      <td>12256.0</td>\n",
       "      <td>4924.0</td>\n",
       "    </tr>\n",
       "    <tr>\n",
       "      <th>41 - 60</th>\n",
       "      <td>24490</td>\n",
       "      <td>16798.0</td>\n",
       "      <td>7692.0</td>\n",
       "    </tr>\n",
       "    <tr>\n",
       "      <th>6 - 15</th>\n",
       "      <td>10561</td>\n",
       "      <td>7623.0</td>\n",
       "      <td>2938.0</td>\n",
       "    </tr>\n",
       "    <tr>\n",
       "      <th>61 - 80</th>\n",
       "      <td>14373</td>\n",
       "      <td>9585.0</td>\n",
       "      <td>4788.0</td>\n",
       "    </tr>\n",
       "    <tr>\n",
       "      <th>81 - 115</th>\n",
       "      <td>2383</td>\n",
       "      <td>1613.0</td>\n",
       "      <td>770.0</td>\n",
       "    </tr>\n",
       "  </tbody>\n",
       "</table>\n",
       "</div>"
      ],
      "text/plain": [
       "           Show  Gender_F  Gender_M\n",
       "Age                                \n",
       "0 - 5      9546    4545.0    5001.0\n",
       "16 - 25    9674    4825.0    4849.0\n",
       "26 - 40   17180   12256.0    4924.0\n",
       "41 - 60   24490   16798.0    7692.0\n",
       "6 - 15    10561    7623.0    2938.0\n",
       "61 - 80   14373    9585.0    4788.0\n",
       "81 - 115   2383    1613.0     770.0"
      ]
     },
     "execution_count": 35,
     "metadata": {},
     "output_type": "execute_result"
    }
   ],
   "source": [
    "df_clean_segments[df_clean_segments.Show == 1].groupby('Age').sum()"
   ]
  },
  {
   "cell_type": "code",
   "execution_count": 36,
   "metadata": {},
   "outputs": [],
   "source": [
    "one_hot_df_clean_segments = df_clean_segments[df_clean_segments.Show == 1].groupby('Age').sum()"
   ]
  },
  {
   "cell_type": "code",
   "execution_count": 37,
   "metadata": {
    "scrolled": false
   },
   "outputs": [
    {
     "data": {
      "image/png": "[encoded data removed]",
      "text/plain": [
       "<Figure size 720x504 with 1 Axes>"
      ]
     },
     "metadata": {
      "needs_background": "light"
     },
     "output_type": "display_data"
    }
   ],
   "source": [
    "one_hot_df_clean_segments.drop(columns='Show').plot(figsize=(10,7));"
   ]
  },
  {
   "cell_type": "markdown",
   "metadata": {},
   "source": [
    "From analyzing this chart, we can clearly notice that below 5 years old, the number of shown up males is a little bit larger. \n",
    "\n",
    "The number of shown up females is larger in all rest segments. However both genders is increasing from segment 16-25 years and reaching the maximum at 41-60 ,then decreasing till reaching the minimum shown up at the segment 81-115 years old. "
   ]
  },
  {
   "cell_type": "markdown",
   "metadata": {},
   "source": [
    "<a id='q3'></a>\n",
    "### Q3: Which gender is commited more to their appointment, Male or Female?"
   ]
  },
  {
   "cell_type": "markdown",
   "metadata": {},
   "source": [
    "In order to answer that question we need firstly to analyze the Gender with Show columns. We want to know the number of Shown up appointments and number of didn't show up appointments for each gender. Then we can simply divide each number over the total number of appointments to know what is the percentage of shown up and not shown up for each gender.\n",
    "\n",
    "Firstly, we're gonna encode the Show Show_0 & Show_1 columns. Then we group them by Gender and sum them to finally result in the number of Show_0 & Show_1 of each gender. Then plotting these findings for clearer investigation."
   ]
  },
  {
   "cell_type": "code",
   "execution_count": 38,
   "metadata": {},
   "outputs": [],
   "source": [
    "# Hot encoding the Show column > Which means we should drop the rest columns for avoiding misconvinention,\n",
    "# and focusing only on the columns that we're going to use.\n",
    "show_encoded = pd.get_dummies(df_clean.drop(columns=['Age', 'Neighbourhood', 'Scholarship', 'Hipertension',\n",
    "                                                     'Diabetes', 'Alcoholism', 'Handcap', 'SMS_received']), \n",
    "                              columns=['Show'])"
   ]
  },
  {
   "cell_type": "code",
   "execution_count": 39,
   "metadata": {
    "scrolled": true
   },
   "outputs": [
    {
     "data": {
      "text/html": [
       "<div>\n",
       "<style scoped>\n",
       "    .dataframe tbody tr th:only-of-type {\n",
       "        vertical-align: middle;\n",
       "    }\n",
       "\n",
       "    .dataframe tbody tr th {\n",
       "        vertical-align: top;\n",
       "    }\n",
       "\n",
       "    .dataframe thead th {\n",
       "        text-align: right;\n",
       "    }\n",
       "</style>\n",
       "<table border=\"1\" class=\"dataframe\">\n",
       "  <thead>\n",
       "    <tr style=\"text-align: right;\">\n",
       "      <th></th>\n",
       "      <th>Gender</th>\n",
       "      <th>Show_0</th>\n",
       "      <th>Show_1</th>\n",
       "    </tr>\n",
       "  </thead>\n",
       "  <tbody>\n",
       "    <tr>\n",
       "      <th>0</th>\n",
       "      <td>F</td>\n",
       "      <td>0</td>\n",
       "      <td>1</td>\n",
       "    </tr>\n",
       "    <tr>\n",
       "      <th>1</th>\n",
       "      <td>M</td>\n",
       "      <td>0</td>\n",
       "      <td>1</td>\n",
       "    </tr>\n",
       "    <tr>\n",
       "      <th>2</th>\n",
       "      <td>F</td>\n",
       "      <td>0</td>\n",
       "      <td>1</td>\n",
       "    </tr>\n",
       "    <tr>\n",
       "      <th>3</th>\n",
       "      <td>F</td>\n",
       "      <td>0</td>\n",
       "      <td>1</td>\n",
       "    </tr>\n",
       "    <tr>\n",
       "      <th>4</th>\n",
       "      <td>F</td>\n",
       "      <td>0</td>\n",
       "      <td>1</td>\n",
       "    </tr>\n",
       "    <tr>\n",
       "      <th>...</th>\n",
       "      <td>...</td>\n",
       "      <td>...</td>\n",
       "      <td>...</td>\n",
       "    </tr>\n",
       "    <tr>\n",
       "      <th>110522</th>\n",
       "      <td>F</td>\n",
       "      <td>0</td>\n",
       "      <td>1</td>\n",
       "    </tr>\n",
       "    <tr>\n",
       "      <th>110523</th>\n",
       "      <td>F</td>\n",
       "      <td>0</td>\n",
       "      <td>1</td>\n",
       "    </tr>\n",
       "    <tr>\n",
       "      <th>110524</th>\n",
       "      <td>F</td>\n",
       "      <td>0</td>\n",
       "      <td>1</td>\n",
       "    </tr>\n",
       "    <tr>\n",
       "      <th>110525</th>\n",
       "      <td>F</td>\n",
       "      <td>0</td>\n",
       "      <td>1</td>\n",
       "    </tr>\n",
       "    <tr>\n",
       "      <th>110526</th>\n",
       "      <td>F</td>\n",
       "      <td>0</td>\n",
       "      <td>1</td>\n",
       "    </tr>\n",
       "  </tbody>\n",
       "</table>\n",
       "<p>110526 rows × 3 columns</p>\n",
       "</div>"
      ],
      "text/plain": [
       "       Gender  Show_0  Show_1\n",
       "0           F       0       1\n",
       "1           M       0       1\n",
       "2           F       0       1\n",
       "3           F       0       1\n",
       "4           F       0       1\n",
       "...       ...     ...     ...\n",
       "110522      F       0       1\n",
       "110523      F       0       1\n",
       "110524      F       0       1\n",
       "110525      F       0       1\n",
       "110526      F       0       1\n",
       "\n",
       "[110526 rows x 3 columns]"
      ]
     },
     "execution_count": 39,
     "metadata": {},
     "output_type": "execute_result"
    }
   ],
   "source": [
    "show_encoded"
   ]
  },
  {
   "cell_type": "code",
   "execution_count": 40,
   "metadata": {},
   "outputs": [
    {
     "data": {
      "text/html": [
       "<div>\n",
       "<style scoped>\n",
       "    .dataframe tbody tr th:only-of-type {\n",
       "        vertical-align: middle;\n",
       "    }\n",
       "\n",
       "    .dataframe tbody tr th {\n",
       "        vertical-align: top;\n",
       "    }\n",
       "\n",
       "    .dataframe thead th {\n",
       "        text-align: right;\n",
       "    }\n",
       "</style>\n",
       "<table border=\"1\" class=\"dataframe\">\n",
       "  <thead>\n",
       "    <tr style=\"text-align: right;\">\n",
       "      <th></th>\n",
       "      <th>Show_0</th>\n",
       "      <th>Show_1</th>\n",
       "    </tr>\n",
       "    <tr>\n",
       "      <th>Gender</th>\n",
       "      <th></th>\n",
       "      <th></th>\n",
       "    </tr>\n",
       "  </thead>\n",
       "  <tbody>\n",
       "    <tr>\n",
       "      <th>F</th>\n",
       "      <td>14594.0</td>\n",
       "      <td>57245.0</td>\n",
       "    </tr>\n",
       "    <tr>\n",
       "      <th>M</th>\n",
       "      <td>7725.0</td>\n",
       "      <td>30962.0</td>\n",
       "    </tr>\n",
       "  </tbody>\n",
       "</table>\n",
       "</div>"
      ],
      "text/plain": [
       "         Show_0   Show_1\n",
       "Gender                  \n",
       "F       14594.0  57245.0\n",
       "M        7725.0  30962.0"
      ]
     },
     "execution_count": 40,
     "metadata": {},
     "output_type": "execute_result"
    }
   ],
   "source": [
    "show_encoded.groupby('Gender').sum()"
   ]
  },
  {
   "cell_type": "code",
   "execution_count": 41,
   "metadata": {},
   "outputs": [
    {
     "data": {
      "text/plain": [
       "True"
      ]
     },
     "execution_count": 41,
     "metadata": {},
     "output_type": "execute_result"
    }
   ],
   "source": [
    "# Let's check that we did is right by comparing the total number of Show_0 & Show_1 \n",
    "# for each genders with the total number of records.\n",
    "show_encoded.groupby('Gender').sum().sum().sum() == len(df_clean.Show)"
   ]
  },
  {
   "cell_type": "markdown",
   "metadata": {},
   "source": [
    "Perfect. Ther're equal. Let's move on and transpose the dataframe for somoother dealing."
   ]
  },
  {
   "cell_type": "code",
   "execution_count": 42,
   "metadata": {},
   "outputs": [
    {
     "data": {
      "text/html": [
       "<div>\n",
       "<style scoped>\n",
       "    .dataframe tbody tr th:only-of-type {\n",
       "        vertical-align: middle;\n",
       "    }\n",
       "\n",
       "    .dataframe tbody tr th {\n",
       "        vertical-align: top;\n",
       "    }\n",
       "\n",
       "    .dataframe thead th {\n",
       "        text-align: right;\n",
       "    }\n",
       "</style>\n",
       "<table border=\"1\" class=\"dataframe\">\n",
       "  <thead>\n",
       "    <tr style=\"text-align: right;\">\n",
       "      <th>Gender</th>\n",
       "      <th>F</th>\n",
       "      <th>M</th>\n",
       "    </tr>\n",
       "  </thead>\n",
       "  <tbody>\n",
       "    <tr>\n",
       "      <th>Show_0</th>\n",
       "      <td>14594.0</td>\n",
       "      <td>7725.0</td>\n",
       "    </tr>\n",
       "    <tr>\n",
       "      <th>Show_1</th>\n",
       "      <td>57245.0</td>\n",
       "      <td>30962.0</td>\n",
       "    </tr>\n",
       "  </tbody>\n",
       "</table>\n",
       "</div>"
      ],
      "text/plain": [
       "Gender        F        M\n",
       "Show_0  14594.0   7725.0\n",
       "Show_1  57245.0  30962.0"
      ]
     },
     "execution_count": 42,
     "metadata": {},
     "output_type": "execute_result"
    }
   ],
   "source": [
    "show_encoded.groupby('Gender').sum().T"
   ]
  },
  {
   "cell_type": "code",
   "execution_count": 43,
   "metadata": {},
   "outputs": [
    {
     "data": {
      "image/png": "[encoded data removed]",
      "text/plain": [
       "<Figure size 1080x504 with 2 Axes>"
      ]
     },
     "metadata": {},
     "output_type": "display_data"
    }
   ],
   "source": [
    "# Creating 2 pandas series for each Male and Female, and sorting the values as well.\n",
    "show_percent_f = show_encoded.groupby('Gender').sum().T['F'].sort_values(ascending=False)\n",
    "show_percent_m = show_encoded.groupby('Gender').sum().T['M'].sort_values(ascending=False)\n",
    "\n",
    "sizes_f = list(show_percent_f)\n",
    "sizes_m = list(show_percent_m)\n",
    "\n",
    "# Changing the labels of the chart\n",
    "labels = ['Shown', \"Didn't Shown\"]\n",
    "colors = ['#457b9d', '#023047']\n",
    "explode = [0.01, 0.01]\n",
    "\n",
    "f = plt.figure(figsize=(15, 7))\n",
    "\n",
    "ax1 = f.add_subplot(1, 2, 1)\n",
    "ax2 = f.add_subplot(1, 2, 2)\n",
    "\n",
    "ax1.pie(sizes_f, colors=colors,autopct='%1.1f%%',textprops={'color':'w', 'size':15}, explode=explode)\n",
    "ax1.set_title(\"Percent of Females who shown & didn't show for appointments\",fontdict={'fontsize':15,'fontweight':'bold'});\n",
    "ax1.set_ylabel(\"Female Percentage\")\n",
    "\n",
    "\n",
    "ax2.pie(sizes_m, labels=labels, colors=colors,autopct='%1.1f%%',textprops={'color':'w', 'size':15}, explode=explode)\n",
    "ax2.set_title(\"Percent of Males who shown & didn't show for appointments\",fontdict={'fontsize':15,'fontweight':'bold'})\n",
    "ax2.set_ylabel(\"Male Percentage\");\n"
   ]
  },
  {
   "cell_type": "markdown",
   "metadata": {},
   "source": [
    "Both genders are nearly commited with the same ratio for their appointments."
   ]
  },
  {
   "cell_type": "markdown",
   "metadata": {},
   "source": [
    "<a id='q4'></a>\n",
    "### Q4: What is the percentage of the people who shown up for their appointments out of the total number?"
   ]
  },
  {
   "cell_type": "code",
   "execution_count": 44,
   "metadata": {
    "scrolled": false
   },
   "outputs": [
    {
     "name": "stdout",
     "output_type": "stream",
     "text": [
      "The total number of appointments is : 110526\n"
     ]
    }
   ],
   "source": [
    "total_number_of_appointments = df_clean.Show.count()\n",
    "print(\"The total number of appointments is :\", total_number_of_appointments)"
   ]
  },
  {
   "cell_type": "code",
   "execution_count": 45,
   "metadata": {},
   "outputs": [
    {
     "name": "stdout",
     "output_type": "stream",
     "text": [
      "The Number of the people of only show up for their appointments is : 88207\n"
     ]
    }
   ],
   "source": [
    "show_up_number = df_clean.Show.sum()\n",
    "print(\"The Number of the people of only show up for their appointments is :\", show_up_number)"
   ]
  },
  {
   "cell_type": "code",
   "execution_count": 46,
   "metadata": {},
   "outputs": [
    {
     "name": "stdout",
     "output_type": "stream",
     "text": [
      "79.81%\n"
     ]
    }
   ],
   "source": [
    "percentage_of_show_up = (show_up_number/total_number_of_appointments) * 100\n",
    "print(\"{:.2f}%\".format(percentage_of_show_up))"
   ]
  },
  {
   "cell_type": "code",
   "execution_count": 47,
   "metadata": {
    "scrolled": true
   },
   "outputs": [],
   "source": [
    "show_df_clean = df_clean.copy()\n",
    "show_df_clean.loc[show_df_clean.Show == 1, ['Show']] = 'Shown'\n",
    "show_df_clean.loc[show_df_clean.Show == 0, ['Show']] = \"Didn't Shown\""
   ]
  },
  {
   "cell_type": "code",
   "execution_count": 48,
   "metadata": {},
   "outputs": [
    {
     "data": {
      "text/plain": [
       "Show\n",
       "Shown           88207\n",
       "Didn't Shown    22319\n",
       "Name: Show, dtype: int64"
      ]
     },
     "execution_count": 48,
     "metadata": {},
     "output_type": "execute_result"
    }
   ],
   "source": [
    "show_df_clean.groupby('Show')['Show'].count().sort_values(ascending=False)"
   ]
  },
  {
   "cell_type": "code",
   "execution_count": 49,
   "metadata": {
    "scrolled": false
   },
   "outputs": [
    {
     "data": {
      "image/png": "[encoded data removed]",
      "text/plain": [
       "<Figure size 720x504 with 1 Axes>"
      ]
     },
     "metadata": {},
     "output_type": "display_data"
    }
   ],
   "source": [
    "show_percent = show_df_clean.groupby('Show')['Show'].count().sort_values(ascending=False)\n",
    "\n",
    "sizes = list(show_percent)\n",
    "labels = show_percent.index\n",
    "colors = ['#457b9d', '#023047']\n",
    "explode = [0.01, 0.01]\n",
    "\n",
    "f = plt.figure(figsize=(10, 7))\n",
    "\n",
    "ax1 = f.add_subplot(1, 1, 1)\n",
    "ax1.pie(sizes, labels=labels, colors=colors, explode=explode,textprops={'color':'w', 'size':15},\n",
    "        autopct='%1.1f%%')\n",
    "ax1.set_title(\"Percentage of the People who shown and didn't show for their appointments\", fontdict={'fontsize':15,'fontweight':'bold'});\n",
    "plt.legend(labels, fontsize='large', ncol=2, loc=9);\n",
    "\n"
   ]
  },
  {
   "cell_type": "markdown",
   "metadata": {},
   "source": [
    "`79.8%` has shown up and `20.2%` didn't shown."
   ]
  },
  {
   "cell_type": "markdown",
   "metadata": {},
   "source": [
    "#### Heartmap\n",
    "One important thing is to have an insight about the correlation between the variables. So, let's create a heatmap of all the feature variables. Heatmap is an extremely powerful way to visualize relationships between variables in high dimensional space and commonly use in Exploratory Data Analysis (EDA)."
   ]
  },
  {
   "cell_type": "code",
   "execution_count": 50,
   "metadata": {},
   "outputs": [
    {
     "data": {
      "image/png": "[encoded data removed]",
      "text/plain": [
       "<Figure size 864x576 with 2 Axes>"
      ]
     },
     "metadata": {
      "needs_background": "light"
     },
     "output_type": "display_data"
    }
   ],
   "source": [
    "# plot the heatmap\n",
    "f = plt.figure(figsize=(12, 8))\n",
    "ax1 = f.add_subplot(1, 1, 1)\n",
    "\n",
    "corr = df_clean.corr()\n",
    "sns.heatmap(corr,\n",
    "            annot=True,\n",
    "            xticklabels=corr.columns,\n",
    "            yticklabels=corr.columns,\n",
    "           );"
   ]
  },
  {
   "cell_type": "markdown",
   "metadata": {},
   "source": [
    "<a id='conclusions'></a>\n",
    "## Conclusions\n",
    "\n",
    "* Age affects on people commitment towards their health strongly.\n",
    "    1. Age segment from 41 to 60 years old are more commited for appointments and caring more about their health. \n",
    "    2. Age segment from 81 to 115 years old are almost don't care about their age. \n",
    "    \n",
    "\n",
    "\n",
    "\n",
    "* In general females are caring of their health more then males. Except that the number is almost equal at age segment of less than 5 years, but this because that at this age they don't have the descion of caring their health or not.\n",
    "\n",
    "\n",
    "* The ratio of showing up for each gender they're almost the same.\n",
    "\n",
    "* As obvious from the heatmap visualization, there's a relation between Age & Hibertention and Diabetes & Hibertension. Which would be useful in our future analysis that would tackle these variables.\n",
    "\n",
    "\n",
    "### Limitations and Missing Information\n",
    "As discovered in the General Properties of the <a href=\"#wrangling\">Data Wrangling</a> part:\n",
    "\n",
    "* The data only covers a span of a month and 10 days, which is very small sample with respect to the whole year. And this specific missing information could misbalance the findings.\n",
    "\n",
    "* The number of Neighbourhoods stated in the dataset is only 81 one, which is not a representative sample of the population.\n",
    "\n",
    "* It would be very useful, if there's a column indicates the average income for each person.\n",
    "\n",
    "* It would be very useful, if there's a column indicates the level of education for each person.\n",
    "\n",
    "* It would be very useful, if there's a column indicates the class of the hospital (which indicates its price).\n",
    "\n",
    "* It would be very useful, if there's a column indicates whether there's a puplic transportaion in the Neighbourhood or not."
   ]
  },
  {
   "cell_type": "markdown",
   "metadata": {},
   "source": [
    "###  Questions that we could explore in the future:\n",
    "- Which areas recives the largest number of appointments? / Which areas that their people have a lot of health issues?\n",
    "- Which areas that their people are commited to their appointments?\n",
    "- Are the enrolled people in Bolsa Família program more commited for showing up for their appointment?\n",
    "- Does having a mental or physical disadvantage (such as Hipertension, Diabetes, Alcoholism, and Handcap) affect on showing up for appointment? If yes, describe.\n",
    "- Does sending SMS matter for reminding people to show up?"
   ]
  },
  {
   "cell_type": "code",
   "execution_count": 51,
   "metadata": {},
   "outputs": [
    {
     "data": {
      "text/plain": [
       "4294967295"
      ]
     },
     "execution_count": 51,
     "metadata": {},
     "output_type": "execute_result"
    }
   ],
   "source": [
    "from subprocess import call\n",
    "call(['python', '-m', 'nbconvert', 'Investigate_a_Dataset.ipynb'])"
   ]
  },
  {
   "cell_type": "code",
   "execution_count": null,
   "metadata": {},
   "outputs": [],
   "source": []
  }
 ],
 "metadata": {
  "kernelspec": {
   "display_name": "Python 3",
   "language": "python",
   "name": "python3"
  },
  "language_info": {
   "codemirror_mode": {
    "name": "ipython",
    "version": 3
   },
   "file_extension": ".py",
   "mimetype": "text/x-python",
   "name": "python",
   "nbconvert_exporter": "python",
   "pygments_lexer": "ipython3",
   "version": "3.8.5"
  }
 },
 "nbformat": 4,
 "nbformat_minor": 4
}
